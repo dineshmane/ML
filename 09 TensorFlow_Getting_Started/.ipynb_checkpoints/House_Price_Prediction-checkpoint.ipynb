{
 "cells": [
  {
   "cell_type": "markdown",
   "metadata": {},
   "source": [
    "### 4 Setps for tensorflow model\n",
    "- Prepare Data\n",
    "- Inference\n",
    "- Loss Calculation\n",
    "- Optimize"
   ]
  },
  {
   "cell_type": "markdown",
   "metadata": {},
   "source": [
    "#### Import"
   ]
  },
  {
   "cell_type": "code",
   "execution_count": 1,
   "metadata": {},
   "outputs": [],
   "source": [
    "import tensorflow as tf\n",
    "import numpy as np\n",
    "import math\n",
    "import matplotlib.pyplot as plt\n",
    "import matplotlib.animation as animation\n",
    "%matplotlib inline"
   ]
  },
  {
   "cell_type": "markdown",
   "metadata": {},
   "source": [
    "### 1. Prepare Data"
   ]
  },
  {
   "cell_type": "markdown",
   "metadata": {},
   "source": [
    "Generation some house sizes in sq ft"
   ]
  },
  {
   "cell_type": "code",
   "execution_count": 2,
   "metadata": {},
   "outputs": [],
   "source": [
    "num_house = 160\n",
    "np.random.seed(42)\n",
    "house_size = np.random.randint(low=1000, high=3500, size=num_house)"
   ]
  },
  {
   "cell_type": "markdown",
   "metadata": {},
   "source": [
    "Generation house price from house sizes"
   ]
  },
  {
   "cell_type": "code",
   "execution_count": 3,
   "metadata": {},
   "outputs": [],
   "source": [
    "np.random.seed(42)\n",
    "house_price = house_size * 100 + np.random.randint(low=20000, high=70000, size=num_house)"
   ]
  },
  {
   "cell_type": "code",
   "execution_count": 4,
   "metadata": {},
   "outputs": [
    {
     "data": {
      "image/png": "[encoded data removed]",
      "text/plain": [
       "<Figure size 432x288 with 1 Axes>"
      ]
     },
     "metadata": {
      "needs_background": "light"
     },
     "output_type": "display_data"
    }
   ],
   "source": [
    "plt.plot(house_size, house_price, \"bx\") # blue x\n",
    "plt.ylabel(\"Price\")\n",
    "plt.xlabel(\"Size\")\n",
    "plt.show()"
   ]
  },
  {
   "cell_type": "markdown",
   "metadata": {},
   "source": [
    "We will normalize values to prevent under/overflow"
   ]
  },
  {
   "cell_type": "code",
   "execution_count": 5,
   "metadata": {},
   "outputs": [],
   "source": [
    "def normalize(array):\n",
    "    return (array - array.mean())/ array.std()"
   ]
  },
  {
   "cell_type": "markdown",
   "metadata": {},
   "source": [
    "We will split dataset"
   ]
  },
  {
   "cell_type": "code",
   "execution_count": 6,
   "metadata": {},
   "outputs": [],
   "source": [
    "num_train_samples = math.floor(num_house * 0.7)"
   ]
  },
  {
   "cell_type": "markdown",
   "metadata": {},
   "source": [
    "Defining  training data"
   ]
  },
  {
   "cell_type": "code",
   "execution_count": 7,
   "metadata": {},
   "outputs": [],
   "source": [
    "train_house_size = np.asarray(house_size[:num_train_samples])\n",
    "train_house_price = np.asarray(house_price[:num_train_samples])"
   ]
  },
  {
   "cell_type": "code",
   "execution_count": 8,
   "metadata": {},
   "outputs": [],
   "source": [
    "train_house_size_norm = normalize(train_house_size)\n",
    "train_house_price_norm = normalize(train_house_price)"
   ]
  },
  {
   "cell_type": "markdown",
   "metadata": {},
   "source": [
    "Defining test data"
   ]
  },
  {
   "cell_type": "code",
   "execution_count": 9,
   "metadata": {},
   "outputs": [],
   "source": [
    "test_house_size = np.asarray(house_size[num_train_samples:])\n",
    "test_house_price = np.asarray(house_price[num_train_samples:])"
   ]
  },
  {
   "cell_type": "code",
   "execution_count": 10,
   "metadata": {},
   "outputs": [],
   "source": [
    "test_house_size_norm = normalize(test_house_size)\n",
    "test_house_price_norm = normalize(test_house_price)"
   ]
  },
  {
   "cell_type": "markdown",
   "metadata": {},
   "source": [
    "let's setup tensorflow placeholders "
   ]
  },
  {
   "cell_type": "code",
   "execution_count": 11,
   "metadata": {},
   "outputs": [],
   "source": [
    "tf_house_size = tf.placeholder(\"float\", name = \"house_size\")\n",
    "tf_house_price = tf.placeholder(\"float\", name = \"house_price\")"
   ]
  },
  {
   "cell_type": "markdown",
   "metadata": {},
   "source": [
    "Define the variables holding size_factor and price_offset <br>\n",
    "y = size_factor * x + price_offset"
   ]
  },
  {
   "cell_type": "code",
   "execution_count": 12,
   "metadata": {},
   "outputs": [],
   "source": [
    "tf_size_factor = tf.Variable(np.random.randn(), name=\"size_factor\")\n",
    "tf_price_offset = tf.Variable(np.random.randn(), name=\"price_offset\")"
   ]
  },
  {
   "cell_type": "markdown",
   "metadata": {},
   "source": [
    "### 2. Inference "
   ]
  },
  {
   "cell_type": "markdown",
   "metadata": {},
   "source": [
    "Define the operation"
   ]
  },
  {
   "cell_type": "code",
   "execution_count": 13,
   "metadata": {},
   "outputs": [],
   "source": [
    "tf_price_pred = tf.add(tf.multiply(tf_size_factor, tf_house_size), tf_price_offset)"
   ]
  },
  {
   "cell_type": "markdown",
   "metadata": {},
   "source": [
    "### 3. Loss Calculation"
   ]
  },
  {
   "cell_type": "markdown",
   "metadata": {},
   "source": [
    "define the loss function"
   ]
  },
  {
   "cell_type": "code",
   "execution_count": 14,
   "metadata": {},
   "outputs": [],
   "source": [
    "tf_cost = tf.reduce_sum(tf.pow(tf_house_price-tf_price_pred, 2))/ (2*num_train_samples)"
   ]
  },
  {
   "cell_type": "markdown",
   "metadata": {},
   "source": [
    "### 4. Optimize"
   ]
  },
  {
   "cell_type": "code",
   "execution_count": 15,
   "metadata": {},
   "outputs": [],
   "source": [
    "learning_rate = 0.1"
   ]
  },
  {
   "cell_type": "code",
   "execution_count": 16,
   "metadata": {},
   "outputs": [],
   "source": [
    "optimizer = tf.train.GradientDescentOptimizer(learning_rate).minimize(tf_cost)"
   ]
  },
  {
   "cell_type": "code",
   "execution_count": null,
   "metadata": {},
   "outputs": [],
   "source": []
  },
  {
   "cell_type": "markdown",
   "metadata": {},
   "source": [
    "Initializing the varialbes"
   ]
  },
  {
   "cell_type": "code",
   "execution_count": 17,
   "metadata": {},
   "outputs": [],
   "source": [
    "init = tf.global_variables_initializer()"
   ]
  },
  {
   "cell_type": "code",
   "execution_count": 18,
   "metadata": {},
   "outputs": [
    {
     "name": "stdout",
     "output_type": "stream",
     "text": [
      "iteration #: 0002 cost= 0.720058978 size_factor= 0.09177996 price_offset= -0.78197587\n",
      "iteration #: 0004 cost= 0.488989919 size_factor= 0.25305912 price_offset= -0.6400547\n",
      "iteration #: 0006 cost= 0.334198922 size_factor= 0.38506955 price_offset= -0.52387947\n",
      "iteration #: 0008 cost= 0.230510592 size_factor= 0.4931228 price_offset= -0.42877954\n",
      "iteration #: 0010 cost= 0.161057383 size_factor= 0.5815667 price_offset= -0.35093102\n",
      "iteration #: 0012 cost= 0.114538930 size_factor= 0.65396035 price_offset= -0.2872049\n",
      "iteration #: 0014 cost= 0.083384469 size_factor= 0.713216 price_offset= -0.23503916\n",
      "iteration #: 0016 cost= 0.062521771 size_factor= 0.76171756 price_offset= -0.19233663\n",
      "iteration #: 0018 cost= 0.048552584 size_factor= 0.8014175 price_offset= -0.1573807\n",
      "iteration #: 0020 cost= 0.039200630 size_factor= 0.8339127 price_offset= -0.1287661\n",
      "iteration #: 0022 cost= 0.032940891 size_factor= 0.86051065 price_offset= -0.10534229\n",
      "iteration #: 0024 cost= 0.028751854 size_factor= 0.882282 price_offset= -0.08616769\n",
      "iteration #: 0026 cost= 0.025949381 size_factor= 0.90010184 price_offset= -0.07047155\n",
      "iteration #: 0028 cost= 0.024075124 size_factor= 0.9146879 price_offset= -0.057622794\n",
      "iteration #: 0030 cost= 0.022822181 size_factor= 0.92662656 price_offset= -0.047104843\n",
      "iteration #: 0032 cost= 0.021984996 size_factor= 0.9363989 price_offset= -0.03849496\n",
      "iteration #: 0034 cost= 0.021425981 size_factor= 0.94439745 price_offset= -0.031446982\n",
      "iteration #: 0036 cost= 0.021052983 size_factor= 0.95094454 price_offset= -0.025677541\n",
      "iteration #: 0038 cost= 0.020804334 size_factor= 0.95630383 price_offset= -0.02095472\n",
      "iteration #: 0040 cost= 0.020638786 size_factor= 0.96069014 price_offset= -0.017088644\n",
      "iteration #: 0042 cost= 0.020528717 size_factor= 0.9642808 price_offset= -0.013923919\n",
      "iteration #: 0044 cost= 0.020455671 size_factor= 0.96721953 price_offset= -0.011333287\n",
      "iteration #: 0046 cost= 0.020407302 size_factor= 0.96962523 price_offset= -0.009212622\n",
      "iteration #: 0048 cost= 0.020375365 size_factor= 0.97159415 price_offset= -0.0074766628\n",
      "iteration #: 0050 cost= 0.020354355 size_factor= 0.97320557 price_offset= -0.0060556117\n",
      "Optimization Finished!\n",
      "Trained cost= 0.020354355 size_factor= 0.97320557 price_offset= -0.0060556117\n"
     ]
    },
    {
     "data": {
      "image/png": "[encoded data removed]",
      "text/plain": [
       "<Figure size 720x576 with 1 Axes>"
      ]
     },
     "metadata": {
      "needs_background": "light"
     },
     "output_type": "display_data"
    },
    {
     "data": {
      "image/png": "[encoded data removed]",
      "text/plain": [
       "<Figure size 720x576 with 1 Axes>"
      ]
     },
     "metadata": {
      "needs_background": "light"
     },
     "output_type": "display_data"
    }
   ],
   "source": [
    "with tf.Session() as sess:\n",
    "    sess.run(init)\n",
    "    \n",
    "    # set how often to display training progress\n",
    "    display_every = 2\n",
    "    num_training_iter = 50\n",
    "    \n",
    "    #number of lines for animation\n",
    "    fit_num_plots = math.floor(num_training_iter/display_every)\n",
    "    # add sotrage of factor and offset values from each epoch\n",
    "    fit_size_factor = np.zeros(fit_num_plots)\n",
    "    fit_price_offsets = np.zeros(fit_num_plots)\n",
    "    fit_plot_idx = 0\n",
    "    \n",
    "    #iterate training data\n",
    "    for iteration in range(num_training_iter):\n",
    "        \n",
    "        #fit the training data\n",
    "        for (x,y) in zip(train_house_size_norm, train_house_price_norm):\n",
    "            sess.run(optimizer, feed_dict={tf_house_size: x, tf_house_price:y})\n",
    "    \n",
    "        # display current status\n",
    "        if (iteration + 1) % display_every == 0 :\n",
    "            c = sess.run(tf_cost, feed_dict={tf_house_size: train_house_size_norm, tf_house_price : train_house_price_norm})\n",
    "            print(\"iteration #:\", '%04d' % (iteration + 1), \"cost=\", \"{:.9f}\".format(c), \\\n",
    "                \"size_factor=\", sess.run(tf_size_factor), \"price_offset=\", sess.run(tf_price_offset))\n",
    "            # save the fit size_factor and price_offset to allow funky animation of learning\n",
    "            fit_size_factor[fit_plot_idx] = sess.run(tf_size_factor)\n",
    "            fit_price_offsets[fit_plot_idx] = sess.run(tf_price_offset)\n",
    "            fit_plot_idx = fit_plot_idx + 1\n",
    "\n",
    "    print(\"Optimization Finished!\")\n",
    "    training_cost = sess.run(tf_cost, feed_dict={tf_house_size: train_house_size_norm, tf_house_price:train_house_price_norm})\n",
    "    print(\"Trained cost=\", training_cost, \"size_factor=\", sess.run(tf_size_factor), \"price_offset=\", sess.run(tf_price_offset))\n",
    "    \n",
    "    \n",
    "    # Plot of training and test data, and learned regression\n",
    "    # get values used to normalized data so we can denormalize data back to its original scale\n",
    "    train_house_size_mean = train_house_size.mean()\n",
    "    train_house_size_std = train_house_size.std()\n",
    "\n",
    "    train_price_mean = train_house_price.mean()\n",
    "    train_price_std = train_house_price.std()\n",
    "\n",
    "    # Plot the graph\n",
    "\n",
    "    plt.rcParams[\"figure.figsize\"] = (10,8)\n",
    "    plt.figure()\n",
    "    plt.xlabel(\"Size (sq.ft)\")\n",
    "    plt.ylabel(\"Price\")\n",
    "    plt.plot(train_house_size, train_house_price, 'go', label='Training data')\n",
    "    plt.plot(test_house_size, test_house_price, 'mo', label='Testing data')\n",
    "    plt.plot(train_house_size_norm * train_house_size_std + train_house_size_mean,\n",
    "             (sess.run(tf_size_factor) * train_house_size_norm + sess.run(tf_price_offset)) * train_price_std + train_price_mean,\n",
    "             label='Learned Regression')\n",
    "\n",
    "    plt.legend(loc='upper left')\n",
    "    plt.show()\n",
    "    \n",
    "    ## Let's do the animation \n",
    "    # plot the another graph that will animate how the gradient descent sequentially adjusted size_factor and price offset\n",
    "    \n",
    "    fig, ax = plt.subplots()\n",
    "    line, = ax.plot(house_size, house_price)\n",
    "\n",
    "    plt.rcParams[\"figure.figsize\"] = (10,8)\n",
    "    plt.title(\"Gradient Descent Fitting Regression Line\")\n",
    "    plt.ylabel(\"Price\")\n",
    "    plt.xlabel(\"Size (sq.ft)\")\n",
    "    plt.plot(train_house_size, train_house_price, 'go', label='Training data')\n",
    "    plt.plot(test_house_size, test_house_price, 'mo', label='Testing data')\n",
    "\n",
    "    def animate(i):\n",
    "        line.set_xdata(train_house_size_norm * train_house_size_std + train_house_size_mean)  # update the data\n",
    "        line.set_ydata((fit_size_factor[i] * train_house_size_norm + fit_price_offsets[i]) * train_price_std + train_price_mean)  # update the data\n",
    "        return line,\n",
    "\n",
    "     # Init only required for blitting to give a clean slate.\n",
    "    def initAnim():\n",
    "        line.set_ydata(np.zeros(shape=house_price.shape[0])) # set y's to 0\n",
    "        return line,\n",
    "\n",
    "    ani = animation.FuncAnimation(fig, animate, frames=np.arange(0, fit_plot_idx), init_func=initAnim,\n",
    "                                 interval=1000, blit=True)\n",
    "\n",
    "    plt.show()   \n"
   ]
  },
  {
   "cell_type": "code",
   "execution_count": null,
   "metadata": {},
   "outputs": [],
   "source": []
  },
  {
   "cell_type": "code",
   "execution_count": null,
   "metadata": {},
   "outputs": [],
   "source": []
  },
  {
   "cell_type": "code",
   "execution_count": null,
   "metadata": {},
   "outputs": [],
   "source": []
  },
  {
   "cell_type": "code",
   "execution_count": null,
   "metadata": {},
   "outputs": [],
   "source": []
  }
 ],
 "metadata": {
  "kernelspec": {
   "display_name": "Python 3",
   "language": "python",
   "name": "python3"
  },
  "language_info": {
   "codemirror_mode": {
    "name": "ipython",
    "version": 3
   },
   "file_extension": ".py",
   "mimetype": "text/x-python",
   "name": "python",
   "nbconvert_exporter": "python",
   "pygments_lexer": "ipython3",
   "version": "3.6.8"
  }
 },
 "nbformat": 4,
 "nbformat_minor": 2
}
