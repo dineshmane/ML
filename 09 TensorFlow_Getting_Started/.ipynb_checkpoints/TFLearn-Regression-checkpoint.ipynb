{
 "cells": [
  {
   "cell_type": "code",
   "execution_count": 1,
   "metadata": {},
   "outputs": [
    {
     "name": "stdout",
     "output_type": "stream",
     "text": [
      "Requirement already satisfied: tflearn in c:\\users\\dany_\\appdata\\local\\continuum\\anaconda3\\lib\\site-packages\\tflearn-0.3.2-py3.6.egg (0.3.2)\n",
      "Requirement already satisfied: numpy in c:\\users\\dany_\\appdata\\local\\continuum\\anaconda3\\lib\\site-packages (from tflearn) (1.15.4)\n",
      "Requirement already satisfied: six in c:\\users\\dany_\\appdata\\local\\continuum\\anaconda3\\lib\\site-packages (from tflearn) (1.12.0)\n",
      "Requirement already satisfied: Pillow in c:\\users\\dany_\\appdata\\local\\continuum\\anaconda3\\lib\\site-packages (from tflearn) (5.4.1)\n"
     ]
    }
   ],
   "source": [
    "!pip install tflearn"
   ]
  },
  {
   "cell_type": "code",
   "execution_count": 2,
   "metadata": {},
   "outputs": [
    {
     "name": "stdout",
     "output_type": "stream",
     "text": [
      "curses is not supported on this machine (please install/reinstall curses for an optimal experience)\n"
     ]
    }
   ],
   "source": [
    "import tensorflow as tf\n",
    "import numpy as np\n",
    "import math\n",
    "import tflearn"
   ]
  },
  {
   "cell_type": "code",
   "execution_count": 3,
   "metadata": {},
   "outputs": [],
   "source": [
    "#  generation some house sizes between 1000 and 3500 (typical sq ft of house)\n",
    "num_house = 160\n",
    "np.random.seed(42)\n",
    "house_size = np.random.randint(low=1000, high=3500, size=num_house )"
   ]
  },
  {
   "cell_type": "code",
   "execution_count": 4,
   "metadata": {},
   "outputs": [],
   "source": [
    "# Generate house prices from house size with a random noise added+.\n",
    "np.random.seed(42)\n",
    "house_price = house_size * 100.0 + np.random.randint(low=20000, high=70000, size=num_house)  \n",
    "\n",
    "# you need to normalize values to prevent under/overflows.\n",
    "def normalize(array):\n",
    "    return (array - array.mean()) / array.std()\n"
   ]
  },
  {
   "cell_type": "code",
   "execution_count": 5,
   "metadata": {},
   "outputs": [],
   "source": [
    "num_train_samples = math.floor(num_house * 0.7)\n",
    "\n",
    "# define training data\n",
    "train_house_size = np.asarray(house_size[:num_train_samples])\n",
    "train_price = np.asanyarray(house_price[:num_train_samples:])\n",
    "\n",
    "train_house_size_norm = normalize(train_house_size)\n",
    "train_price_norm = normalize(train_price)\n",
    "\n",
    "# define test data\n",
    "test_house_size = np.array(house_size[num_train_samples:])\n",
    "test_house_price = np.array(house_price[num_train_samples:])\n",
    "\n",
    "test_house_size_norm = normalize(test_house_size)\n",
    "test_house_price_norm = normalize(test_house_price)"
   ]
  },
  {
   "cell_type": "code",
   "execution_count": 6,
   "metadata": {},
   "outputs": [],
   "source": [
    "# one value, one value out. \n",
    "# Names let use see these in TensorBoard\n",
    "input = tflearn.input_data(shape=[None], name=\"InputData\")\n",
    "linear = tflearn.layers.core.single_unit(input, activation=\"linear\", name=\"Linear\")\n",
    "\n"
   ]
  },
  {
   "cell_type": "code",
   "execution_count": 7,
   "metadata": {},
   "outputs": [],
   "source": [
    "#define the optimizer, metric we try to optimize, how we calculate loss\n",
    "reg = tflearn.regression(linear, optimizer=\"sgd\", loss=\"mean_square\", metric=\"R2\", learning_rate=0.01, name=\"regression\")"
   ]
  },
  {
   "cell_type": "code",
   "execution_count": 8,
   "metadata": {},
   "outputs": [],
   "source": [
    "model= tflearn.DNN(reg)"
   ]
  },
  {
   "cell_type": "code",
   "execution_count": 9,
   "metadata": {},
   "outputs": [
    {
     "name": "stdout",
     "output_type": "stream",
     "text": [
      "Training Step: 1999  | total loss: \u001b[1m\u001b[32m0.07277\u001b[0m\u001b[0m | time: 0.008s\n",
      "| SGD | epoch: 1000 | loss: 0.07277 -- iter: 064/112\n",
      "Training Step: 2000  | total loss: \u001b[1m\u001b[32m0.06965\u001b[0m\u001b[0m | time: 0.018s\n",
      "| SGD | epoch: 1000 | loss: 0.06965 -- iter: 112/112\n",
      "--\n"
     ]
    }
   ],
   "source": [
    "model.fit(train_house_size_norm, train_price_norm, n_epoch=1000)"
   ]
  },
  {
   "cell_type": "code",
   "execution_count": 10,
   "metadata": {},
   "outputs": [
    {
     "name": "stdout",
     "output_type": "stream",
     "text": [
      "training complete\n",
      "Weights: W=[0.9473751], b=[-0.00384016] \n",
      "\n"
     ]
    }
   ],
   "source": [
    "print(\"training complete\")\n",
    "print(\"Weights: W={0}, b={1} \\n\".format(model.get_weights(linear.W), model.get_weights(linear.b)))"
   ]
  },
  {
   "cell_type": "code",
   "execution_count": 11,
   "metadata": {},
   "outputs": [
    {
     "name": "stdout",
     "output_type": "stream",
     "text": [
      "Accuracy [0.9423037767410278] \n"
     ]
    }
   ],
   "source": [
    "print(\"Accuracy {0} \".format(model.evaluate(test_house_size_norm, test_house_price_norm)))"
   ]
  }
 ],
 "metadata": {
  "kernelspec": {
   "display_name": "Python 3",
   "language": "python",
   "name": "python3"
  },
  "language_info": {
   "codemirror_mode": {
    "name": "ipython",
    "version": 3
   },
   "file_extension": ".py",
   "mimetype": "text/x-python",
   "name": "python",
   "nbconvert_exporter": "python",
   "pygments_lexer": "ipython3",
   "version": "3.6.8"
  }
 },
 "nbformat": 4,
 "nbformat_minor": 2
}
